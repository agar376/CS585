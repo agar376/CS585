import tensorflow as tf
a = tf.constant([4, 12, 8])
b = tf.constant([3, 5, 15])
asquare = tf.square(a, name=None)
bsquare = tf.square(b, name=None)
c_add = tf.add(asquare, bsquare)
c_float = tf.cast(c_add, tf.float32)
c = tf.sqrt(c_float, name=None)
session = tf.InteractiveSession()
result = session.run(c)
print result